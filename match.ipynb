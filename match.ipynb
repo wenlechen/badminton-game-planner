{
 "cells": [
  {
   "cell_type": "markdown",
   "id": "3f5c162a-7a19-4ff9-9038-1938ad4f556a",
   "metadata": {},
   "source": [
    "## badminton game planner"
   ]
  },
  {
   "cell_type": "code",
   "execution_count": 6,
   "id": "52bc95e5-7ae9-40dc-86c3-61d2735718d9",
   "metadata": {},
   "outputs": [
    {
     "name": "stdout",
     "output_type": "stream",
     "text": [
      "Looking in indexes: https://pypi.tuna.tsinghua.edu.cn/simple\n",
      "Collecting chinesename\n",
      "  Downloading https://pypi.tuna.tsinghua.edu.cn/packages/56/1d/48286f4d21e7742be1ae4aa93bb028a46db26e59e6f9279d7af563c40c2d/chinesename-0.1.1-py2.py3-none-any.whl (151 kB)\n",
      "\u001b[2K     \u001b[38;2;114;156;31m━━━━━━━━━━━━━━━━━━━━━━━━━━━━━━━━━━━━━━━\u001b[0m \u001b[32m152.0/152.0 kB\u001b[0m \u001b[31m4.4 MB/s\u001b[0m eta \u001b[36m0:00:00\u001b[0m\n",
      "\u001b[?25hInstalling collected packages: chinesename\n",
      "Successfully installed chinesename-0.1.1\n"
     ]
    }
   ],
   "source": [
    "!pip install chinesename"
   ]
  },
  {
   "cell_type": "code",
   "execution_count": 3,
   "id": "af9685d6-899c-4614-bd39-ade99d0a465d",
   "metadata": {},
   "outputs": [],
   "source": [
    "candidates = [\n",
    "    \n",
    "]"
   ]
  },
  {
   "cell_type": "code",
   "execution_count": 15,
   "id": "83ae6f2c-40a1-417f-b83f-21bd3fb654f8",
   "metadata": {},
   "outputs": [],
   "source": [
    "from chinesename import ChineseName  # 导包\n",
    "\n",
    "def get_n_names(n):\n",
    "\n",
    "    cn = ChineseName()\n",
    "    names = cn.getNames(n)\n",
    "    return names"
   ]
  },
  {
   "cell_type": "code",
   "execution_count": 31,
   "id": "e3844e77-6986-4f96-89cd-77ba8b66f1ce",
   "metadata": {},
   "outputs": [],
   "source": [
    "candidates = get_n_names(20)"
   ]
  },
  {
   "cell_type": "code",
   "execution_count": 32,
   "id": "2f7c1745-0c06-42ba-8367-87a07ff1804d",
   "metadata": {},
   "outputs": [
    {
     "name": "stdout",
     "output_type": "stream",
     "text": [
      "20\n"
     ]
    }
   ],
   "source": [
    "print(len(candidates))"
   ]
  },
  {
   "cell_type": "code",
   "execution_count": 178,
   "id": "c35969b0-7482-429f-95eb-9976316600ba",
   "metadata": {},
   "outputs": [
    {
     "name": "stdout",
     "output_type": "stream",
     "text": [
      "['胥橄', '佴定', '莫醇', '荣桑', '司寇柴', '周葸', '诸佯', '席市', '毋事', '高鸿', '胡更', '邹座', '太叔贺', '张豫', '陶敏', '索卞', '查淼', '寿奴', '裘谙', '戚箭']\n"
     ]
    }
   ],
   "source": [
    "print(candidates)"
   ]
  },
  {
   "cell_type": "code",
   "execution_count": 179,
   "id": "6ad28589-e575-478d-a6b0-3f7056cc52ed",
   "metadata": {},
   "outputs": [],
   "source": [
    "candidates = [\n",
    "    '金倚晗',\n",
    "    '邵禹飞',\n",
    "    '李沐飞',\n",
    "    '王楚乔',\n",
    "    '辛邵洋',\n",
    "    '何佳俊',\n",
    "    '李奕凡',\n",
    "    '王乐山',\n",
    "    '芦梓浩',\n",
    "    '戴翊宁',\n",
    "    '李怀博',\n",
    "    '王子睿',\n",
    "    '姜博睿',\n",
    "    '宋睿凡',\n",
    "    '徐文飒',\n",
    "    '王烨秋',\n",
    "    '王博蕊',\n",
    "    '李欣阳',\n",
    "    '贺泊淳',\n",
    "    '安书岳'\n",
    "             ]"
   ]
  },
  {
   "cell_type": "code",
   "execution_count": 180,
   "id": "ab28bf85-dd80-486c-b98b-2b5380aed299",
   "metadata": {},
   "outputs": [],
   "source": [
    "import random\n",
    "from copy import copy\n",
    "\n",
    "def make_n_groups(names):\n",
    "    # 把名单随机分成n个组\n",
    "    # 每组人数为三或者四名成员\n",
    "\n",
    "    names = copy(names)\n",
    "\n",
    "    group_map = {\n",
    "        4: [2,2],\n",
    "        5: [2,3],\n",
    "        6: [3,3],\n",
    "        7: [3,4],\n",
    "        8: [4,4],\n",
    "        9: [2,2,2,3],\n",
    "        10: [2,2,3,3],\n",
    "        11: [2,3,3,3],\n",
    "        12: [3,3,3,3],\n",
    "        13: [3,3,3,4],\n",
    "        14: [3,3,4,4],\n",
    "        15: [3,4,4,4],\n",
    "        16: [4,4,4,4],\n",
    "        17: [3,3,3,4,4],\n",
    "        18: [3,3,3,3,3,3],\n",
    "        19: [3,3,3,3,3,4],\n",
    "        20: [3,3,3,3,4,4],\n",
    "        21: [3,3,3,3,3,3,3],\n",
    "        22: [3,3,3,3,3,3,4],\n",
    "        23: [3,3,3,3,3,4,4],\n",
    "        24: [3,3,3,3,3,3,3,3],\n",
    "        25: [3,3,3,3,3,3,3,4],\n",
    "        26: [3,3,3,3,3,3,4,4]\n",
    "    }\n",
    "\n",
    "    lens_names = len(names)\n",
    "    grouped_numbers = group_map[lens_names]\n",
    "    \n",
    "    grouped_names = []\n",
    "\n",
    "    for n_samples in grouped_numbers:\n",
    "        \n",
    "        # Randomly sample n samples from the list\n",
    "        random_samples = random.sample(names, n_samples)\n",
    "\n",
    "        grouped_names.append(random_samples)\n",
    "\n",
    "        # Remove the selected samples from the original list\n",
    "        for sample in random_samples:\n",
    "            names.remove(sample)\n",
    "\n",
    "    random.shuffle(grouped_names)\n",
    "\n",
    "    final_groups = []\n",
    "\n",
    "    for index, value in enumerate(grouped_names):\n",
    "        final_groups.append({'group':index+1, 'players':value})\n",
    "    \n",
    "    return final_groups\n"
   ]
  },
  {
   "cell_type": "code",
   "execution_count": 181,
   "id": "3467b700-330f-41dc-baaf-04481c21d231",
   "metadata": {},
   "outputs": [],
   "source": [
    "grouped_candidates = make_n_groups(candidates)"
   ]
  },
  {
   "cell_type": "code",
   "execution_count": 182,
   "id": "922bd1b8-6a26-4f6c-8bae-6c77de4a7ada",
   "metadata": {},
   "outputs": [
    {
     "name": "stdout",
     "output_type": "stream",
     "text": [
      "[{'group': 1, 'players': ['李怀博', '李欣阳', '王烨秋']}, {'group': 2, 'players': ['王乐山', '李奕凡', '王楚乔']}, {'group': 3, 'players': ['芦梓浩', '李沐飞', '戴翊宁', '何佳俊']}, {'group': 4, 'players': ['金倚晗', '辛邵洋', '邵禹飞']}, {'group': 5, 'players': ['姜博睿', '贺泊淳', '王博蕊', '安书岳']}, {'group': 6, 'players': ['宋睿凡', '徐文飒', '王子睿']}]\n"
     ]
    }
   ],
   "source": [
    "print(grouped_candidates)"
   ]
  },
  {
   "cell_type": "code",
   "execution_count": 183,
   "id": "d5cf3ada-4cae-4c0a-94e9-fb283460dd5f",
   "metadata": {},
   "outputs": [
    {
     "name": "stdout",
     "output_type": "stream",
     "text": [
      "组号 1\n",
      "名单 ['李怀博', '李欣阳', '王烨秋']\n",
      "------\n",
      "组号 2\n",
      "名单 ['王乐山', '李奕凡', '王楚乔']\n",
      "------\n",
      "组号 3\n",
      "名单 ['芦梓浩', '李沐飞', '戴翊宁', '何佳俊']\n",
      "------\n",
      "组号 4\n",
      "名单 ['金倚晗', '辛邵洋', '邵禹飞']\n",
      "------\n",
      "组号 5\n",
      "名单 ['姜博睿', '贺泊淳', '王博蕊', '安书岳']\n",
      "------\n",
      "组号 6\n",
      "名单 ['宋睿凡', '徐文飒', '王子睿']\n",
      "------\n"
     ]
    }
   ],
   "source": [
    "for group in grouped_candidates:\n",
    "    print('组号', group['group'])\n",
    "    print('名单', group['players'])\n",
    "    print('------')"
   ]
  },
  {
   "cell_type": "code",
   "execution_count": 184,
   "id": "260b2be5-bd6b-4f39-a73d-5d70ed949562",
   "metadata": {},
   "outputs": [],
   "source": [
    "\n",
    "import itertools\n",
    "\n",
    "def make_group_games(players):\n",
    "    # 排出小组赛的名单\n",
    "    # 三人或四人小组，两两对阵\n",
    "\n",
    "    # Define the number of items in each combination\n",
    "    n = 2\n",
    "    \n",
    "    # Generate combinations of n items from the list\n",
    "    combinations = list(itertools.combinations(players, n))\n",
    "    \n",
    "    # Print the combinations\n",
    "    for combo in combinations:\n",
    "        print(combo)\n",
    "\n",
    "    return combinations"
   ]
  },
  {
   "cell_type": "code",
   "execution_count": 185,
   "id": "2525a887-57aa-41a0-bed5-b12b548a63b9",
   "metadata": {},
   "outputs": [
    {
     "name": "stdout",
     "output_type": "stream",
     "text": [
      "('王乐山', '李奕凡')\n",
      "('王乐山', '王楚乔')\n",
      "('李奕凡', '王楚乔')\n",
      "[('王乐山', '李奕凡'), ('王乐山', '王楚乔'), ('李奕凡', '王楚乔')]\n"
     ]
    }
   ],
   "source": [
    "print(make_group_games(grouped_candidates[1]['players']))"
   ]
  },
  {
   "cell_type": "code",
   "execution_count": 186,
   "id": "cf1164c4-0de5-45ea-aeaf-2d92e851a2ea",
   "metadata": {},
   "outputs": [
    {
     "name": "stdout",
     "output_type": "stream",
     "text": [
      "Looking in indexes: https://pypi.tuna.tsinghua.edu.cn/simple\n",
      "Requirement already satisfied: tabulate in /Users/robert/envs/planner/lib/python3.10/site-packages (0.9.0)\n"
     ]
    }
   ],
   "source": [
    "!pip install tabulate"
   ]
  },
  {
   "cell_type": "code",
   "execution_count": 190,
   "id": "7fe8ece9-d43d-41ab-b244-7f0c8a816d75",
   "metadata": {},
   "outputs": [
    {
     "name": "stdout",
     "output_type": "stream",
     "text": [
      "+---------+-------+-------------+\n",
      "| Name    |   Age | City        |\n",
      "+=========+=======+=============+\n",
      "| Alice   |    25 | New York    |\n",
      "+---------+-------+-------------+\n",
      "| Bob     |    30 | Los Angeles |\n",
      "+---------+-------+-------------+\n",
      "| Charlie |    35 | Chicago     |\n",
      "+---------+-------+-------------+\n",
      "| David   |    40 | Houston     |\n",
      "+---------+-------+-------------+\n"
     ]
    }
   ],
   "source": [
    "from tabulate import tabulate\n",
    "\n",
    "# Sample data\n",
    "data = [['Alice', 25, 'New York'],\n",
    "        ['Bob', 30, 'Los Angeles'],\n",
    "        ['Charlie', 35, 'Chicago'],\n",
    "        ['David', 40, 'Houston']]\n",
    "\n",
    "# Display the table\n",
    "print(tabulate(data, headers=['Name', 'Age', 'City'], tablefmt='grid'))\n"
   ]
  },
  {
   "cell_type": "code",
   "execution_count": 188,
   "id": "c6b72ace-0fd2-4c65-a157-e86dd69e8d4e",
   "metadata": {},
   "outputs": [
    {
     "name": "stdout",
     "output_type": "stream",
     "text": [
      "Looking in indexes: https://pypi.tuna.tsinghua.edu.cn/simple\n",
      "Requirement already satisfied: reportlab in /Users/robert/envs/planner/lib/python3.10/site-packages (4.2.0)\n",
      "Requirement already satisfied: pillow>=9.0.0 in /Users/robert/envs/planner/lib/python3.10/site-packages (from reportlab) (10.3.0)\n",
      "Requirement already satisfied: chardet in /Users/robert/envs/planner/lib/python3.10/site-packages (from reportlab) (5.2.0)\n"
     ]
    }
   ],
   "source": [
    "!pip install reportlab"
   ]
  },
  {
   "cell_type": "code",
   "execution_count": 215,
   "id": "17f6c9c1-c121-4fa5-8f88-6fe316425ed1",
   "metadata": {},
   "outputs": [
    {
     "name": "stdout",
     "output_type": "stream",
     "text": [
      "组号 1\n",
      "名单 ['李怀博', '李欣阳', '王烨秋']\n",
      "------\n",
      "组号 2\n",
      "名单 ['王乐山', '李奕凡', '王楚乔']\n",
      "------\n",
      "组号 3\n",
      "名单 ['芦梓浩', '李沐飞', '戴翊宁', '何佳俊']\n",
      "------\n",
      "组号 4\n",
      "名单 ['金倚晗', '辛邵洋', '邵禹飞']\n",
      "------\n",
      "组号 5\n",
      "名单 ['姜博睿', '贺泊淳', '王博蕊', '安书岳']\n",
      "------\n",
      "组号 6\n",
      "名单 ['宋睿凡', '徐文飒', '王子睿']\n",
      "------\n",
      "PDF created successfully!\n"
     ]
    }
   ],
   "source": [
    "from reportlab.lib import colors\n",
    "from reportlab.lib.pagesizes import A4\n",
    "from reportlab.platypus import SimpleDocTemplate, Table, TableStyle, Spacer, PageBreak, Paragraph\n",
    "from reportlab.lib.styles import ParagraphStyle\n",
    "from reportlab.pdfbase.ttfonts import TTFont\n",
    "from reportlab.pdfbase import pdfmetrics\n",
    "from reportlab.lib.units import cm, inch\n",
    "\n",
    "# Register a TrueType font that supports Chinese characters\n",
    "pdfmetrics.registerFont(TTFont('SimSun', 'simsun.ttc'))  # Replace 'simsun.ttc' with the path to your font file\n",
    "\n",
    "# Create a PDF document\n",
    "pdf_filename = \"table_example.pdf\"\n",
    "pdf = SimpleDocTemplate(pdf_filename, pagesize=A4, top_margin=1.5*cm, bottom_margin=1.5*cm)\n",
    "\n",
    "def make_group_match_table(group):\n",
    "\n",
    "    group_num = group['group']\n",
    "    group_players = group['players']\n",
    "\n",
    "    col_widths = [5.5 * cm, 1.2 * cm, 1.2 * cm, 1.2 * cm, 1.2 * cm, 1 * cm, 1* cm, 1*cm, 1*cm, 2.2*cm]  # Specify the width for each column\n",
    "    \n",
    "    # Sample data for the table\n",
    "    data = [\n",
    "        [f\"乙组（三、四年级）单打 第{group_num}组\", \"1\", \"2\", \"3\", \"4\", \"胜次\", \"净胜\", \"名次\", \"场地\", \"比赛时间\"]\n",
    "    ]\n",
    "    \n",
    "    for idx, player in enumerate(group_players):\n",
    "        data.append([f\"{idx+1} {player}\", \"\", \"\", \"\", \"\", \"\", \"\", \"\", \"\", \"\"])\n",
    "\n",
    "    if len(group_players) < 4:\n",
    "        data.append([\"4\", \"\", \"\", \"\", \"\", \"\", \"\", \"\", \"\", \"\"])\n",
    "    \n",
    "    # Create a table\n",
    "    table = Table(data, colWidths=col_widths)\n",
    "    \n",
    "    \n",
    "    # Add style to the table\n",
    "    style = TableStyle([('BACKGROUND', (0, 0), (-1, 0), colors.grey),\n",
    "                        ('TEXTCOLOR', (0, 0), (-1, 0), colors.whitesmoke),\n",
    "                        ('ALIGN', (0, 0), (-1, -1), 'CENTER'),\n",
    "                        ('ALIGN', (0, 0), (0, 4), 'LEFT'),\n",
    "                        ('FONTNAME', (0, 0), (-1, -1), 'SimSun'),\n",
    "                        ('BOTTOMPADDING', (0, 0), (-1, 0), 5),\n",
    "                        ('BACKGROUND', (0, 1), (-1, -1), colors.beige),\n",
    "                        ('GRID', (0, 0), (-1, -1), 1, colors.black),\n",
    "                        ('SPAN', (8, 1), (8, 4)),\n",
    "                        ('SPAN', (9, 1), (9, 4))\n",
    "                       ])\n",
    "  \n",
    "    table.setStyle(style)\n",
    "\n",
    "    return table\n",
    "\n",
    "#elements = [table, Spacer(1, 0.2 * inch), table, Spacer(1, 0.2 * inch), table, Spacer(1, 0.2 * inch), table, Spacer(1, 0.2 * inch), table, Spacer(1, 0.2 * inch), table, \n",
    "#          PageBreak()]*2\n",
    "\n",
    "elements = []\n",
    "\n",
    "for idx, group in enumerate(grouped_candidates):\n",
    "    print('组号', group['group'])\n",
    "    print('名单', group['players'])\n",
    "    print('------')\n",
    "\n",
    "    if idx % 6 == 0:\n",
    "        if idx > 1:\n",
    "            elements.append(PageBreak())\n",
    "\n",
    "        # Define the text content\n",
    "        text_content = \"2024年中关村第二小学第一届羽毛球比赛\"\n",
    "        \n",
    "        # Define paragraph style with custom font\n",
    "        style = ParagraphStyle(name='CustomFontStyle', fontName='SimSun', fontSize=18)\n",
    "        \n",
    "        # Create a paragraph with the text content and style\n",
    "        paragraph = Paragraph(text_content, style)\n",
    "\n",
    "        elements.append(paragraph)\n",
    "        elements.append(Spacer(1, 0.5 * inch))\n",
    "\n",
    "    table = make_group_match_table(group)\n",
    "    \n",
    "    elements.append(table)\n",
    "    elements.append(Spacer(1, 0.15 * inch))\n",
    "\n",
    "    #if (idx+1) % 6 == 0:\n",
    "    #    elements.append(PageBreak())\n",
    "\n",
    "# Build the PDF document\n",
    "pdf.build(elements)\n",
    "\n",
    "print(\"PDF created successfully!\")"
   ]
  },
  {
   "cell_type": "code",
   "execution_count": null,
   "id": "4bf414a9-4ada-4c68-9ad5-f442f53aa2c1",
   "metadata": {},
   "outputs": [],
   "source": []
  }
 ],
 "metadata": {
  "kernelspec": {
   "display_name": "Python 3 (ipykernel)",
   "language": "python",
   "name": "python3"
  },
  "language_info": {
   "codemirror_mode": {
    "name": "ipython",
    "version": 3
   },
   "file_extension": ".py",
   "mimetype": "text/x-python",
   "name": "python",
   "nbconvert_exporter": "python",
   "pygments_lexer": "ipython3",
   "version": "3.10.13"
  }
 },
 "nbformat": 4,
 "nbformat_minor": 5
}
